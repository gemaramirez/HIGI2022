{
  "nbformat": 4,
  "nbformat_minor": 0,
  "metadata": {
    "colab": {
      "provenance": [],
      "authorship_tag": "ABX9TyNVa+Xw+in9HRD+7mBnjVqJ",
      "include_colab_link": true
    },
    "kernelspec": {
      "name": "python3",
      "display_name": "Python 3"
    },
    "language_info": {
      "name": "python"
    }
  },
  "cells": [
    {
      "cell_type": "markdown",
      "metadata": {
        "id": "view-in-github",
        "colab_type": "text"
      },
      "source": [
        "<a href=\"https://colab.research.google.com/github/gemaramirez/HIGI2022/blob/main/python/trabajofinal.ipynb\" target=\"_parent\"><img src=\"https://colab.research.google.com/assets/colab-badge.svg\" alt=\"Open In Colab\"/></a>"
      ]
    },
    {
      "cell_type": "markdown",
      "source": [
        "Primero importamos las librerias."
      ],
      "metadata": {
        "id": "VtdtBbAvjdP2"
      }
    },
    {
      "cell_type": "code",
      "execution_count": 2,
      "metadata": {
        "id": "C8R3YSgP4feG"
      },
      "outputs": [],
      "source": [
        "import os\n",
        "import numpy as np \n",
        "import matplotlib.pyplot as plt\n",
        "import math as math\n",
        "import pandas as pd"
      ]
    },
    {
      "cell_type": "markdown",
      "source": [
        "# **ANALIZANDO LOS DATOS RECOPILADOS**"
      ],
      "metadata": {
        "id": "D6BguMr0ePbr"
      }
    },
    {
      "cell_type": "markdown",
      "source": [
        "Ingresamos la base de datos de excel."
      ],
      "metadata": {
        "id": "Dn5Bzk9lfNwd"
      }
    },
    {
      "cell_type": "code",
      "source": [
        "df = pd.read_excel(\"/content/diabetesbasedatos.xlsx\")"
      ],
      "metadata": {
        "id": "cJWW17jgebxC"
      },
      "execution_count": 3,
      "outputs": []
    },
    {
      "cell_type": "code",
      "source": [
        "df.sample(10) "
      ],
      "metadata": {
        "colab": {
          "base_uri": "https://localhost:8080/",
          "height": 363
        },
        "id": "t7X5VhTCefuC",
        "outputId": "35fba0de-2d70-4e42-b0b3-17cffccf1726"
      },
      "execution_count": null,
      "outputs": [
        {
          "output_type": "execute_result",
          "data": {
            "text/plain": [
              "     Person  Pregnancies  Glucose  BloodPressure  SkinThickness  Insulin  \\\n",
              "505     506           10       75             82              0        0   \n",
              "159     160           17      163             72             41      114   \n",
              "530     531            2      122             60             18      106   \n",
              "512     513            9       91             68              0        0   \n",
              "673     674            3      123            100             35      240   \n",
              "660     661           10      162             84              0        0   \n",
              "621     622            2       92             76             20        0   \n",
              "272     273            3      122             78              0        0   \n",
              "99      100            1      122             90             51      220   \n",
              "106     107            1       96            122              0        0   \n",
              "\n",
              "      BMI  DiabetesPedigreeFunction  Age  Outcome  \n",
              "505  33.3                     0.263   38        0  \n",
              "159  40.9                     0.817   47        1  \n",
              "530  29.8                     0.717   22        0  \n",
              "512  24.2                     0.200   58        0  \n",
              "673  57.3                     0.880   22        0  \n",
              "660  27.7                     0.182   54        0  \n",
              "621  24.2                     1.698   28        0  \n",
              "272  23.0                     0.254   40        0  \n",
              "99   49.7                     0.325   31        1  \n",
              "106  22.4                     0.207   27        0  "
            ],
            "text/html": [
              "\n",
              "  <div id=\"df-432defbd-fcf5-41b6-b29e-acc8860dfb48\">\n",
              "    <div class=\"colab-df-container\">\n",
              "      <div>\n",
              "<style scoped>\n",
              "    .dataframe tbody tr th:only-of-type {\n",
              "        vertical-align: middle;\n",
              "    }\n",
              "\n",
              "    .dataframe tbody tr th {\n",
              "        vertical-align: top;\n",
              "    }\n",
              "\n",
              "    .dataframe thead th {\n",
              "        text-align: right;\n",
              "    }\n",
              "</style>\n",
              "<table border=\"1\" class=\"dataframe\">\n",
              "  <thead>\n",
              "    <tr style=\"text-align: right;\">\n",
              "      <th></th>\n",
              "      <th>Person</th>\n",
              "      <th>Pregnancies</th>\n",
              "      <th>Glucose</th>\n",
              "      <th>BloodPressure</th>\n",
              "      <th>SkinThickness</th>\n",
              "      <th>Insulin</th>\n",
              "      <th>BMI</th>\n",
              "      <th>DiabetesPedigreeFunction</th>\n",
              "      <th>Age</th>\n",
              "      <th>Outcome</th>\n",
              "    </tr>\n",
              "  </thead>\n",
              "  <tbody>\n",
              "    <tr>\n",
              "      <th>505</th>\n",
              "      <td>506</td>\n",
              "      <td>10</td>\n",
              "      <td>75</td>\n",
              "      <td>82</td>\n",
              "      <td>0</td>\n",
              "      <td>0</td>\n",
              "      <td>33.3</td>\n",
              "      <td>0.263</td>\n",
              "      <td>38</td>\n",
              "      <td>0</td>\n",
              "    </tr>\n",
              "    <tr>\n",
              "      <th>159</th>\n",
              "      <td>160</td>\n",
              "      <td>17</td>\n",
              "      <td>163</td>\n",
              "      <td>72</td>\n",
              "      <td>41</td>\n",
              "      <td>114</td>\n",
              "      <td>40.9</td>\n",
              "      <td>0.817</td>\n",
              "      <td>47</td>\n",
              "      <td>1</td>\n",
              "    </tr>\n",
              "    <tr>\n",
              "      <th>530</th>\n",
              "      <td>531</td>\n",
              "      <td>2</td>\n",
              "      <td>122</td>\n",
              "      <td>60</td>\n",
              "      <td>18</td>\n",
              "      <td>106</td>\n",
              "      <td>29.8</td>\n",
              "      <td>0.717</td>\n",
              "      <td>22</td>\n",
              "      <td>0</td>\n",
              "    </tr>\n",
              "    <tr>\n",
              "      <th>512</th>\n",
              "      <td>513</td>\n",
              "      <td>9</td>\n",
              "      <td>91</td>\n",
              "      <td>68</td>\n",
              "      <td>0</td>\n",
              "      <td>0</td>\n",
              "      <td>24.2</td>\n",
              "      <td>0.200</td>\n",
              "      <td>58</td>\n",
              "      <td>0</td>\n",
              "    </tr>\n",
              "    <tr>\n",
              "      <th>673</th>\n",
              "      <td>674</td>\n",
              "      <td>3</td>\n",
              "      <td>123</td>\n",
              "      <td>100</td>\n",
              "      <td>35</td>\n",
              "      <td>240</td>\n",
              "      <td>57.3</td>\n",
              "      <td>0.880</td>\n",
              "      <td>22</td>\n",
              "      <td>0</td>\n",
              "    </tr>\n",
              "    <tr>\n",
              "      <th>660</th>\n",
              "      <td>661</td>\n",
              "      <td>10</td>\n",
              "      <td>162</td>\n",
              "      <td>84</td>\n",
              "      <td>0</td>\n",
              "      <td>0</td>\n",
              "      <td>27.7</td>\n",
              "      <td>0.182</td>\n",
              "      <td>54</td>\n",
              "      <td>0</td>\n",
              "    </tr>\n",
              "    <tr>\n",
              "      <th>621</th>\n",
              "      <td>622</td>\n",
              "      <td>2</td>\n",
              "      <td>92</td>\n",
              "      <td>76</td>\n",
              "      <td>20</td>\n",
              "      <td>0</td>\n",
              "      <td>24.2</td>\n",
              "      <td>1.698</td>\n",
              "      <td>28</td>\n",
              "      <td>0</td>\n",
              "    </tr>\n",
              "    <tr>\n",
              "      <th>272</th>\n",
              "      <td>273</td>\n",
              "      <td>3</td>\n",
              "      <td>122</td>\n",
              "      <td>78</td>\n",
              "      <td>0</td>\n",
              "      <td>0</td>\n",
              "      <td>23.0</td>\n",
              "      <td>0.254</td>\n",
              "      <td>40</td>\n",
              "      <td>0</td>\n",
              "    </tr>\n",
              "    <tr>\n",
              "      <th>99</th>\n",
              "      <td>100</td>\n",
              "      <td>1</td>\n",
              "      <td>122</td>\n",
              "      <td>90</td>\n",
              "      <td>51</td>\n",
              "      <td>220</td>\n",
              "      <td>49.7</td>\n",
              "      <td>0.325</td>\n",
              "      <td>31</td>\n",
              "      <td>1</td>\n",
              "    </tr>\n",
              "    <tr>\n",
              "      <th>106</th>\n",
              "      <td>107</td>\n",
              "      <td>1</td>\n",
              "      <td>96</td>\n",
              "      <td>122</td>\n",
              "      <td>0</td>\n",
              "      <td>0</td>\n",
              "      <td>22.4</td>\n",
              "      <td>0.207</td>\n",
              "      <td>27</td>\n",
              "      <td>0</td>\n",
              "    </tr>\n",
              "  </tbody>\n",
              "</table>\n",
              "</div>\n",
              "      <button class=\"colab-df-convert\" onclick=\"convertToInteractive('df-432defbd-fcf5-41b6-b29e-acc8860dfb48')\"\n",
              "              title=\"Convert this dataframe to an interactive table.\"\n",
              "              style=\"display:none;\">\n",
              "        \n",
              "  <svg xmlns=\"http://www.w3.org/2000/svg\" height=\"24px\"viewBox=\"0 0 24 24\"\n",
              "       width=\"24px\">\n",
              "    <path d=\"M0 0h24v24H0V0z\" fill=\"none\"/>\n",
              "    <path d=\"M18.56 5.44l.94 2.06.94-2.06 2.06-.94-2.06-.94-.94-2.06-.94 2.06-2.06.94zm-11 1L8.5 8.5l.94-2.06 2.06-.94-2.06-.94L8.5 2.5l-.94 2.06-2.06.94zm10 10l.94 2.06.94-2.06 2.06-.94-2.06-.94-.94-2.06-.94 2.06-2.06.94z\"/><path d=\"M17.41 7.96l-1.37-1.37c-.4-.4-.92-.59-1.43-.59-.52 0-1.04.2-1.43.59L10.3 9.45l-7.72 7.72c-.78.78-.78 2.05 0 2.83L4 21.41c.39.39.9.59 1.41.59.51 0 1.02-.2 1.41-.59l7.78-7.78 2.81-2.81c.8-.78.8-2.07 0-2.86zM5.41 20L4 18.59l7.72-7.72 1.47 1.35L5.41 20z\"/>\n",
              "  </svg>\n",
              "      </button>\n",
              "      \n",
              "  <style>\n",
              "    .colab-df-container {\n",
              "      display:flex;\n",
              "      flex-wrap:wrap;\n",
              "      gap: 12px;\n",
              "    }\n",
              "\n",
              "    .colab-df-convert {\n",
              "      background-color: #E8F0FE;\n",
              "      border: none;\n",
              "      border-radius: 50%;\n",
              "      cursor: pointer;\n",
              "      display: none;\n",
              "      fill: #1967D2;\n",
              "      height: 32px;\n",
              "      padding: 0 0 0 0;\n",
              "      width: 32px;\n",
              "    }\n",
              "\n",
              "    .colab-df-convert:hover {\n",
              "      background-color: #E2EBFA;\n",
              "      box-shadow: 0px 1px 2px rgba(60, 64, 67, 0.3), 0px 1px 3px 1px rgba(60, 64, 67, 0.15);\n",
              "      fill: #174EA6;\n",
              "    }\n",
              "\n",
              "    [theme=dark] .colab-df-convert {\n",
              "      background-color: #3B4455;\n",
              "      fill: #D2E3FC;\n",
              "    }\n",
              "\n",
              "    [theme=dark] .colab-df-convert:hover {\n",
              "      background-color: #434B5C;\n",
              "      box-shadow: 0px 1px 3px 1px rgba(0, 0, 0, 0.15);\n",
              "      filter: drop-shadow(0px 1px 2px rgba(0, 0, 0, 0.3));\n",
              "      fill: #FFFFFF;\n",
              "    }\n",
              "  </style>\n",
              "\n",
              "      <script>\n",
              "        const buttonEl =\n",
              "          document.querySelector('#df-432defbd-fcf5-41b6-b29e-acc8860dfb48 button.colab-df-convert');\n",
              "        buttonEl.style.display =\n",
              "          google.colab.kernel.accessAllowed ? 'block' : 'none';\n",
              "\n",
              "        async function convertToInteractive(key) {\n",
              "          const element = document.querySelector('#df-432defbd-fcf5-41b6-b29e-acc8860dfb48');\n",
              "          const dataTable =\n",
              "            await google.colab.kernel.invokeFunction('convertToInteractive',\n",
              "                                                     [key], {});\n",
              "          if (!dataTable) return;\n",
              "\n",
              "          const docLinkHtml = 'Like what you see? Visit the ' +\n",
              "            '<a target=\"_blank\" href=https://colab.research.google.com/notebooks/data_table.ipynb>data table notebook</a>'\n",
              "            + ' to learn more about interactive tables.';\n",
              "          element.innerHTML = '';\n",
              "          dataTable['output_type'] = 'display_data';\n",
              "          await google.colab.output.renderOutput(dataTable, element);\n",
              "          const docLink = document.createElement('div');\n",
              "          docLink.innerHTML = docLinkHtml;\n",
              "          element.appendChild(docLink);\n",
              "        }\n",
              "      </script>\n",
              "    </div>\n",
              "  </div>\n",
              "  "
            ]
          },
          "metadata": {},
          "execution_count": 5
        }
      ]
    },
    {
      "cell_type": "code",
      "source": [
        "df.describe()"
      ],
      "metadata": {
        "colab": {
          "base_uri": "https://localhost:8080/",
          "height": 300
        },
        "id": "SYDkfY2Keis4",
        "outputId": "13408d2f-351c-47a4-9597-8d0ea3646ae3"
      },
      "execution_count": null,
      "outputs": [
        {
          "output_type": "execute_result",
          "data": {
            "text/plain": [
              "           Person  Pregnancies     Glucose  BloodPressure  SkinThickness  \\\n",
              "count  768.000000   768.000000  768.000000     768.000000     768.000000   \n",
              "mean   384.500000     3.845052  121.115885      69.105469      20.536458   \n",
              "std    221.846794     3.369578   31.424724      19.355807      15.952218   \n",
              "min      1.000000     0.000000    0.000000       0.000000       0.000000   \n",
              "25%    192.750000     1.000000   99.000000      62.000000       0.000000   \n",
              "50%    384.500000     3.000000  117.000000      72.000000      23.000000   \n",
              "75%    576.250000     6.000000  140.250000      80.000000      32.000000   \n",
              "max    768.000000    17.000000  199.000000     122.000000      99.000000   \n",
              "\n",
              "          Insulin         BMI  DiabetesPedigreeFunction         Age  \\\n",
              "count  768.000000  768.000000                768.000000  768.000000   \n",
              "mean    79.799479   31.992578                  0.471876   33.240885   \n",
              "std    115.244002    7.884160                  0.331329   11.760232   \n",
              "min      0.000000    0.000000                  0.078000   21.000000   \n",
              "25%      0.000000   27.300000                  0.243750   24.000000   \n",
              "50%     30.500000   32.000000                  0.372500   29.000000   \n",
              "75%    127.250000   36.600000                  0.626250   41.000000   \n",
              "max    846.000000   67.100000                  2.420000   81.000000   \n",
              "\n",
              "          Outcome  \n",
              "count  768.000000  \n",
              "mean     0.348958  \n",
              "std      0.476951  \n",
              "min      0.000000  \n",
              "25%      0.000000  \n",
              "50%      0.000000  \n",
              "75%      1.000000  \n",
              "max      1.000000  "
            ],
            "text/html": [
              "\n",
              "  <div id=\"df-e6980036-976e-4536-bff8-2e9dc6fd8c88\">\n",
              "    <div class=\"colab-df-container\">\n",
              "      <div>\n",
              "<style scoped>\n",
              "    .dataframe tbody tr th:only-of-type {\n",
              "        vertical-align: middle;\n",
              "    }\n",
              "\n",
              "    .dataframe tbody tr th {\n",
              "        vertical-align: top;\n",
              "    }\n",
              "\n",
              "    .dataframe thead th {\n",
              "        text-align: right;\n",
              "    }\n",
              "</style>\n",
              "<table border=\"1\" class=\"dataframe\">\n",
              "  <thead>\n",
              "    <tr style=\"text-align: right;\">\n",
              "      <th></th>\n",
              "      <th>Person</th>\n",
              "      <th>Pregnancies</th>\n",
              "      <th>Glucose</th>\n",
              "      <th>BloodPressure</th>\n",
              "      <th>SkinThickness</th>\n",
              "      <th>Insulin</th>\n",
              "      <th>BMI</th>\n",
              "      <th>DiabetesPedigreeFunction</th>\n",
              "      <th>Age</th>\n",
              "      <th>Outcome</th>\n",
              "    </tr>\n",
              "  </thead>\n",
              "  <tbody>\n",
              "    <tr>\n",
              "      <th>count</th>\n",
              "      <td>768.000000</td>\n",
              "      <td>768.000000</td>\n",
              "      <td>768.000000</td>\n",
              "      <td>768.000000</td>\n",
              "      <td>768.000000</td>\n",
              "      <td>768.000000</td>\n",
              "      <td>768.000000</td>\n",
              "      <td>768.000000</td>\n",
              "      <td>768.000000</td>\n",
              "      <td>768.000000</td>\n",
              "    </tr>\n",
              "    <tr>\n",
              "      <th>mean</th>\n",
              "      <td>384.500000</td>\n",
              "      <td>3.845052</td>\n",
              "      <td>121.115885</td>\n",
              "      <td>69.105469</td>\n",
              "      <td>20.536458</td>\n",
              "      <td>79.799479</td>\n",
              "      <td>31.992578</td>\n",
              "      <td>0.471876</td>\n",
              "      <td>33.240885</td>\n",
              "      <td>0.348958</td>\n",
              "    </tr>\n",
              "    <tr>\n",
              "      <th>std</th>\n",
              "      <td>221.846794</td>\n",
              "      <td>3.369578</td>\n",
              "      <td>31.424724</td>\n",
              "      <td>19.355807</td>\n",
              "      <td>15.952218</td>\n",
              "      <td>115.244002</td>\n",
              "      <td>7.884160</td>\n",
              "      <td>0.331329</td>\n",
              "      <td>11.760232</td>\n",
              "      <td>0.476951</td>\n",
              "    </tr>\n",
              "    <tr>\n",
              "      <th>min</th>\n",
              "      <td>1.000000</td>\n",
              "      <td>0.000000</td>\n",
              "      <td>0.000000</td>\n",
              "      <td>0.000000</td>\n",
              "      <td>0.000000</td>\n",
              "      <td>0.000000</td>\n",
              "      <td>0.000000</td>\n",
              "      <td>0.078000</td>\n",
              "      <td>21.000000</td>\n",
              "      <td>0.000000</td>\n",
              "    </tr>\n",
              "    <tr>\n",
              "      <th>25%</th>\n",
              "      <td>192.750000</td>\n",
              "      <td>1.000000</td>\n",
              "      <td>99.000000</td>\n",
              "      <td>62.000000</td>\n",
              "      <td>0.000000</td>\n",
              "      <td>0.000000</td>\n",
              "      <td>27.300000</td>\n",
              "      <td>0.243750</td>\n",
              "      <td>24.000000</td>\n",
              "      <td>0.000000</td>\n",
              "    </tr>\n",
              "    <tr>\n",
              "      <th>50%</th>\n",
              "      <td>384.500000</td>\n",
              "      <td>3.000000</td>\n",
              "      <td>117.000000</td>\n",
              "      <td>72.000000</td>\n",
              "      <td>23.000000</td>\n",
              "      <td>30.500000</td>\n",
              "      <td>32.000000</td>\n",
              "      <td>0.372500</td>\n",
              "      <td>29.000000</td>\n",
              "      <td>0.000000</td>\n",
              "    </tr>\n",
              "    <tr>\n",
              "      <th>75%</th>\n",
              "      <td>576.250000</td>\n",
              "      <td>6.000000</td>\n",
              "      <td>140.250000</td>\n",
              "      <td>80.000000</td>\n",
              "      <td>32.000000</td>\n",
              "      <td>127.250000</td>\n",
              "      <td>36.600000</td>\n",
              "      <td>0.626250</td>\n",
              "      <td>41.000000</td>\n",
              "      <td>1.000000</td>\n",
              "    </tr>\n",
              "    <tr>\n",
              "      <th>max</th>\n",
              "      <td>768.000000</td>\n",
              "      <td>17.000000</td>\n",
              "      <td>199.000000</td>\n",
              "      <td>122.000000</td>\n",
              "      <td>99.000000</td>\n",
              "      <td>846.000000</td>\n",
              "      <td>67.100000</td>\n",
              "      <td>2.420000</td>\n",
              "      <td>81.000000</td>\n",
              "      <td>1.000000</td>\n",
              "    </tr>\n",
              "  </tbody>\n",
              "</table>\n",
              "</div>\n",
              "      <button class=\"colab-df-convert\" onclick=\"convertToInteractive('df-e6980036-976e-4536-bff8-2e9dc6fd8c88')\"\n",
              "              title=\"Convert this dataframe to an interactive table.\"\n",
              "              style=\"display:none;\">\n",
              "        \n",
              "  <svg xmlns=\"http://www.w3.org/2000/svg\" height=\"24px\"viewBox=\"0 0 24 24\"\n",
              "       width=\"24px\">\n",
              "    <path d=\"M0 0h24v24H0V0z\" fill=\"none\"/>\n",
              "    <path d=\"M18.56 5.44l.94 2.06.94-2.06 2.06-.94-2.06-.94-.94-2.06-.94 2.06-2.06.94zm-11 1L8.5 8.5l.94-2.06 2.06-.94-2.06-.94L8.5 2.5l-.94 2.06-2.06.94zm10 10l.94 2.06.94-2.06 2.06-.94-2.06-.94-.94-2.06-.94 2.06-2.06.94z\"/><path d=\"M17.41 7.96l-1.37-1.37c-.4-.4-.92-.59-1.43-.59-.52 0-1.04.2-1.43.59L10.3 9.45l-7.72 7.72c-.78.78-.78 2.05 0 2.83L4 21.41c.39.39.9.59 1.41.59.51 0 1.02-.2 1.41-.59l7.78-7.78 2.81-2.81c.8-.78.8-2.07 0-2.86zM5.41 20L4 18.59l7.72-7.72 1.47 1.35L5.41 20z\"/>\n",
              "  </svg>\n",
              "      </button>\n",
              "      \n",
              "  <style>\n",
              "    .colab-df-container {\n",
              "      display:flex;\n",
              "      flex-wrap:wrap;\n",
              "      gap: 12px;\n",
              "    }\n",
              "\n",
              "    .colab-df-convert {\n",
              "      background-color: #E8F0FE;\n",
              "      border: none;\n",
              "      border-radius: 50%;\n",
              "      cursor: pointer;\n",
              "      display: none;\n",
              "      fill: #1967D2;\n",
              "      height: 32px;\n",
              "      padding: 0 0 0 0;\n",
              "      width: 32px;\n",
              "    }\n",
              "\n",
              "    .colab-df-convert:hover {\n",
              "      background-color: #E2EBFA;\n",
              "      box-shadow: 0px 1px 2px rgba(60, 64, 67, 0.3), 0px 1px 3px 1px rgba(60, 64, 67, 0.15);\n",
              "      fill: #174EA6;\n",
              "    }\n",
              "\n",
              "    [theme=dark] .colab-df-convert {\n",
              "      background-color: #3B4455;\n",
              "      fill: #D2E3FC;\n",
              "    }\n",
              "\n",
              "    [theme=dark] .colab-df-convert:hover {\n",
              "      background-color: #434B5C;\n",
              "      box-shadow: 0px 1px 3px 1px rgba(0, 0, 0, 0.15);\n",
              "      filter: drop-shadow(0px 1px 2px rgba(0, 0, 0, 0.3));\n",
              "      fill: #FFFFFF;\n",
              "    }\n",
              "  </style>\n",
              "\n",
              "      <script>\n",
              "        const buttonEl =\n",
              "          document.querySelector('#df-e6980036-976e-4536-bff8-2e9dc6fd8c88 button.colab-df-convert');\n",
              "        buttonEl.style.display =\n",
              "          google.colab.kernel.accessAllowed ? 'block' : 'none';\n",
              "\n",
              "        async function convertToInteractive(key) {\n",
              "          const element = document.querySelector('#df-e6980036-976e-4536-bff8-2e9dc6fd8c88');\n",
              "          const dataTable =\n",
              "            await google.colab.kernel.invokeFunction('convertToInteractive',\n",
              "                                                     [key], {});\n",
              "          if (!dataTable) return;\n",
              "\n",
              "          const docLinkHtml = 'Like what you see? Visit the ' +\n",
              "            '<a target=\"_blank\" href=https://colab.research.google.com/notebooks/data_table.ipynb>data table notebook</a>'\n",
              "            + ' to learn more about interactive tables.';\n",
              "          element.innerHTML = '';\n",
              "          dataTable['output_type'] = 'display_data';\n",
              "          await google.colab.output.renderOutput(dataTable, element);\n",
              "          const docLink = document.createElement('div');\n",
              "          docLink.innerHTML = docLinkHtml;\n",
              "          element.appendChild(docLink);\n",
              "        }\n",
              "      </script>\n",
              "    </div>\n",
              "  </div>\n",
              "  "
            ]
          },
          "metadata": {},
          "execution_count": 6
        }
      ]
    },
    {
      "cell_type": "markdown",
      "source": [
        "Los parámetros que se analizaron en la base de datos y que se van a graficar a continuación.\n",
        "\n",
        "*   **Embarazos:** Expresa el número de embarazos de las pacientes.\n",
        "*   **Glucosa:** Expresa el nivel de glucosa en la sangre.\n",
        "*   **Presión arterial:** Expresa la medida de la presión arterial en la sangre.\n",
        "*   **Grosor de la piel:** Expresa el grosor de la piel de las pacientes.\n",
        "*   **Insulina:** Expresa el nivel de insulina en la sangre.\n",
        "*   **BMI:** Expresa el índice de masa corporal.\n",
        "*   **Diabetes Pedigree Function:** La probabilidad de diabetes en función de los antecedentes familiares.\n",
        "*   **Edad:** Expresa la edad de las pacientes.\n",
        "*   **Resultado:** Expresa el resultado final. 1 es sí, 0 es no."
      ],
      "metadata": {
        "id": "JyAvA7W9e_qz"
      }
    },
    {
      "cell_type": "markdown",
      "source": [
        "**EMBARAZOS**"
      ],
      "metadata": {
        "id": "-T8JNwtYedEG"
      }
    },
    {
      "cell_type": "code",
      "source": [
        "serie_embarazos = df.Pregnancies.value_counts()\n",
        "serie_embarazos.plot.bar()\n",
        "plt.title('Embarazos de las pacientes')\n",
        "plt.xlabel('Embarazos')\n",
        "plt.ylabel('Personas') "
      ],
      "metadata": {
        "colab": {
          "base_uri": "https://localhost:8080/",
          "height": 315
        },
        "id": "18BIEVmuTdF8",
        "outputId": "34b193ab-9fcd-45ca-da5d-69005081e021"
      },
      "execution_count": 4,
      "outputs": [
        {
          "output_type": "execute_result",
          "data": {
            "text/plain": [
              "Text(0, 0.5, 'personas')"
            ]
          },
          "metadata": {},
          "execution_count": 4
        },
        {
          "output_type": "display_data",
          "data": {
            "text/plain": [
              "<Figure size 432x288 with 1 Axes>"
            ],
            "image/png": "[encoded data removed]"
          },
          "metadata": {
            "needs_background": "light"
          }
        }
      ]
    },
    {
      "cell_type": "markdown",
      "source": [
        "En la grafica anterior se presenta el número de embarazos que han tenido las pacientes. Se puede apreciar que la mayoría ha tenido 1 embarazo o ninguno y muy pocas de ellas han tenido de 14 a 17 embarazos."
      ],
      "metadata": {
        "id": "f4enDTepdgVx"
      }
    },
    {
      "cell_type": "markdown",
      "source": [
        "**GLUCOSA**"
      ],
      "metadata": {
        "id": "swN6hednjH8e"
      }
    },
    {
      "cell_type": "code",
      "source": [
        "x = ['0 - 50', '51 - 100', '101 - 150', '151 - 200']\n",
        "y = [4, 210, 414, 140]\n",
        "\n",
        "plt.pie(y, labels=x)\n",
        "plt.title('Cantidad de glucosa en la sangre de las pacientes.') \n",
        "\n",
        "plt.show()"
      ],
      "metadata": {
        "colab": {
          "base_uri": "https://localhost:8080/",
          "height": 264
        },
        "id": "7oaxH9GHjZhL",
        "outputId": "c769d364-c5a5-495c-b190-117b737fa088"
      },
      "execution_count": null,
      "outputs": [
        {
          "output_type": "display_data",
          "data": {
            "text/plain": [
              "<Figure size 432x288 with 1 Axes>"
            ],
            "image/png": "[encoded data removed]"
          },
          "metadata": {}
        }
      ]
    },
    {
      "cell_type": "markdown",
      "source": [
        "Estos datos nos dicen: \n",
        "*   4 personas tienen de 0 a 50 de glucosa en la sangre.\n",
        "*   210 personas tienen de 51 a 100 de glucosa en la sangre.\n",
        "*   414 personas tienen de 101 a 150 de glucosa en la sangre.\n",
        "*   140 personas tienen de 151 a 200 de glucosa en la sangre.\n",
        "\n",
        "Como se aprecia en el grafico, la mayoría de pacientes se ubican entre 101 y 150 para el valor de glucosa en su sangre. Los valores de azúcar en la sangre en ayunas de 99 mg/dl o menores son normales, los de 100 a 125 mg/dl indican que tiene prediabetes y los de 126 mg/dl o mayores indican que tiene diabetes."
      ],
      "metadata": {
        "id": "aU6Cj5iDoKia"
      }
    },
    {
      "cell_type": "markdown",
      "source": [
        "**PRESIÓN ARTERIAL**"
      ],
      "metadata": {
        "id": "4CMHoYyip2hR"
      }
    },
    {
      "cell_type": "code",
      "source": [
        "x = ['0 - 25', '25 - 50', '50 - 75', '75 - 100', '100 - 125']\n",
        "y = [36, 28, 415, 276, 13]\n",
        "\n",
        "plt.bar(x, y)\n",
        "plt.xlabel('Presión arterial')\n",
        "plt.ylabel('Personas')\n",
        "plt.title('Presión arterial de las pacientes') \n",
        "\n",
        "plt.show()"
      ],
      "metadata": {
        "colab": {
          "base_uri": "https://localhost:8080/",
          "height": 295
        },
        "id": "YcAfNiSNqELK",
        "outputId": "19847378-1fb9-42ef-afac-783a0521f622"
      },
      "execution_count": null,
      "outputs": [
        {
          "output_type": "display_data",
          "data": {
            "text/plain": [
              "<Figure size 432x288 with 1 Axes>"
            ],
            "image/png": "[encoded data removed]"
          },
          "metadata": {
            "needs_background": "light"
          }
        }
      ]
    },
    {
      "cell_type": "markdown",
      "source": [
        "En la mayoría de las pacientes la presión arterial se ubica entre 50 a 75. Mientras que presiones más bajas o altas abarcan menor cantidad de personas. La presión arterial normal para adultos se define como una presión sistólica de menos de 120 y una presión diastólica de menos de 80. Esto se indica como 120/80."
      ],
      "metadata": {
        "id": "XuEngWIxtZT5"
      }
    },
    {
      "cell_type": "markdown",
      "source": [
        "**GROSOR DE LA PIEL**"
      ],
      "metadata": {
        "id": "hLPe0Er5tvUB"
      }
    },
    {
      "cell_type": "code",
      "source": [
        "x = ['0 - 20', '21 - 40', '41 - 60', '61 - 80', '81 - 100']\n",
        "y = [351, 343, 72, 1, 1]\n",
        "\n",
        "plt.plot(x, y, marker = 'o', linestyle = '--', color = 'b')\n",
        "plt.xlabel('Grosor de la piel')\n",
        "plt.ylabel('Pacientes')\n",
        "plt.title('Grosor de la piel de las pacientes')\n",
        "\n",
        "plt.show() "
      ],
      "metadata": {
        "colab": {
          "base_uri": "https://localhost:8080/",
          "height": 295
        },
        "id": "QXdhDd3Wt6ee",
        "outputId": "9a2d1a52-e46f-4bfd-cbdd-76d7cc6b913e"
      },
      "execution_count": null,
      "outputs": [
        {
          "output_type": "display_data",
          "data": {
            "text/plain": [
              "<Figure size 432x288 with 1 Axes>"
            ],
            "image/png": "[encoded data removed]"
          },
          "metadata": {
            "needs_background": "light"
          }
        }
      ]
    },
    {
      "cell_type": "markdown",
      "source": [
        "Estos datos nos dicen:\n",
        "\n",
        "*   351 pacientes tienen un grosor de piel en el rango de 0 - 20.\n",
        "*   343 pacientes tienen un grosor de piel en el rango de 21 - 40.\n",
        "*   72 pacientes tienen un grosor de piel en el rango de 41 - 60.\n",
        "*   1 pacientes tienen un grosor de piel en el rango de 61 - 80.\n",
        "*   1 pacientes tienen un grosor de piel en el rango de 81 - 100.\n",
        "\n",
        "Como se puede ver la mayoría de pacientes se encuentran en los primeros rangos de la grafica, siendo así una minoría de las pacientes las cuales presentan un grosor de piel del 61 al 80, y del 81 al 100."
      ],
      "metadata": {
        "id": "XwuAWOwlwD-B"
      }
    },
    {
      "cell_type": "markdown",
      "source": [
        "**INSULINA**"
      ],
      "metadata": {
        "id": "U_ZaBpGMxMyp"
      }
    },
    {
      "cell_type": "code",
      "source": [
        "x = ['0 - 150', '150 - 300', '300 - 450', '450 - 600', '600 - 750', '750 - 900']\n",
        "y = [615, 116, 20, 14, 2, 1]\n",
        "\n",
        "plt.bar(x, y)\n",
        "plt.xlabel('Insulina en la sangre')\n",
        "plt.ylabel('Personas')\n",
        "plt.title('Nivel de insulina en la sangre de las pacientes') \n",
        "\n",
        "plt.show()"
      ],
      "metadata": {
        "colab": {
          "base_uri": "https://localhost:8080/",
          "height": 295
        },
        "id": "GjqAMtX7xbRh",
        "outputId": "4ba39e18-07bd-4cd6-b335-9f32778b1115"
      },
      "execution_count": null,
      "outputs": [
        {
          "output_type": "display_data",
          "data": {
            "text/plain": [
              "<Figure size 432x288 with 1 Axes>"
            ],
            "image/png": "[encoded data removed]"
          },
          "metadata": {
            "needs_background": "light"
          }
        }
      ]
    },
    {
      "cell_type": "markdown",
      "source": [
        "Como se ve en la gráfica, el nível de insulina de la mayoría de las pacientes se ubica en un rango de 0 - 150, disminuyendo conforme este aumenta. La insulina natural (es decir la insulina liberada desde el páncreas) mantiene el azúcar en sangre en un rango muy estrecho. Durante la noche y entre comidas, los niveles normales, no diabéticos oscilan entre 60-100mg/dl y 140 mg/dl o menos después de las comidas y aperitivos."
      ],
      "metadata": {
        "id": "QKFJCzkRy607"
      }
    },
    {
      "cell_type": "markdown",
      "source": [
        "**BODY MASS INDEX**"
      ],
      "metadata": {
        "id": "a2yo7AU6zngX"
      }
    },
    {
      "cell_type": "code",
      "source": [
        "x = ['0 - 17', '17 - 34', '34 - 51', '51 - 68']\n",
        "y = [11, 465, 285, 8]\n",
        "\n",
        "plt.pie(y, labels=x)\n",
        "plt.title('Índice de masa corporal.') \n",
        "\n",
        "plt.show()"
      ],
      "metadata": {
        "colab": {
          "base_uri": "https://localhost:8080/",
          "height": 266
        },
        "id": "upm9QZwozykz",
        "outputId": "4268c291-077e-4de1-fa9b-770f214b7f90"
      },
      "execution_count": null,
      "outputs": [
        {
          "output_type": "display_data",
          "data": {
            "text/plain": [
              "<Figure size 432x288 with 1 Axes>"
            ],
            "image/png": "[encoded data removed]"
          },
          "metadata": {}
        }
      ]
    },
    {
      "cell_type": "markdown",
      "source": [
        "En esta gráfica se muestra la variedad de masa corporal de todas las pacientes. Siendo el rango mínimo de entre 0 a 17, y el máximo de 51 a 68. La mayoría de las pacientes se ubican entre los rangos de 17 a 34, seguidos de los rangos de 34 a 51."
      ],
      "metadata": {
        "id": "6BQ30gqL0gWg"
      }
    },
    {
      "cell_type": "markdown",
      "source": [
        "**DIABETES PEDIGREE FUNCTION**"
      ],
      "metadata": {
        "id": "hvp-RymF0319"
      }
    },
    {
      "cell_type": "code",
      "source": [
        "x = ['0.07 - 0.5', '0.5 - 1', '1 - 1.5', '1.5 - 2', '2 - 2.5']\n",
        "y = [544, 180, 34, 6, 4]\n",
        "\n",
        "plt.bar(x, y)\n",
        "plt.xlabel('Antecedentes')\n",
        "plt.ylabel('Personas')\n",
        "plt.title('Diabetes pedigree function') \n",
        "\n",
        "plt.show()\n"
      ],
      "metadata": {
        "colab": {
          "base_uri": "https://localhost:8080/",
          "height": 295
        },
        "id": "XvkaYxfF1Dqy",
        "outputId": "650dd025-e6f0-41c3-a862-cf34a2bd32eb"
      },
      "execution_count": null,
      "outputs": [
        {
          "output_type": "display_data",
          "data": {
            "text/plain": [
              "<Figure size 432x288 with 1 Axes>"
            ],
            "image/png": "[encoded data removed]"
          },
          "metadata": {
            "needs_background": "light"
          }
        }
      ]
    },
    {
      "cell_type": "markdown",
      "source": [
        "En esta gráfica se muestra la probabilidad de padecer diabetes mediante los antecedentes en la familia de las pacientes. Si bien no se ha concluído que los antecedentes familiares provoquen la enfermedad, se ha notado que es un factor importante el cual se toma en cuenta."
      ],
      "metadata": {
        "id": "VlxryWV12mnw"
      }
    },
    {
      "cell_type": "markdown",
      "source": [
        "**EDADES**"
      ],
      "metadata": {
        "id": "EGn8klDL22l-"
      }
    },
    {
      "cell_type": "code",
      "source": [
        "x = ['21 - 31', '31 - 41', '41 - 51', '51 - 61', '61 - 71', '71 - 81']\n",
        "y = [441, 155, 99, 48, 23, 2]\n",
        "\n",
        "plt.bar(x, y)\n",
        "plt.xlabel('Edades agrupadas')\n",
        "plt.ylabel('Frecuencia')\n",
        "plt.title('Edades de las pacientes') \n",
        "\n",
        "plt.show()"
      ],
      "metadata": {
        "colab": {
          "base_uri": "https://localhost:8080/",
          "height": 295
        },
        "id": "jgArng-G2--R",
        "outputId": "e37880fb-ad3f-4d1a-a7c2-dd77536a2de7"
      },
      "execution_count": null,
      "outputs": [
        {
          "output_type": "display_data",
          "data": {
            "text/plain": [
              "<Figure size 432x288 with 1 Axes>"
            ],
            "image/png": "[encoded data removed]"
          },
          "metadata": {
            "needs_background": "light"
          }
        }
      ]
    },
    {
      "cell_type": "markdown",
      "source": [
        "La edad de las pacientes va desde los 21 años como mínimo, hasta los 81 años como máximo. Ya que la diabetes puede afectar a personas de edades variadas se investigó en un amplio número de pacientes con edades diferentes. La mayoría de las pacientes son mujeres jóvenes de un rango de 21 a 31 años. Mientras que la mínoria serían pacientes del rango de 71 a 81 años de edad."
      ],
      "metadata": {
        "id": "rv3JpeFc3t1y"
      }
    },
    {
      "cell_type": "markdown",
      "source": [
        "# **CONCLUSIONES**"
      ],
      "metadata": {
        "id": "5DznhwUS4Bsy"
      }
    },
    {
      "cell_type": "code",
      "source": [
        "serie_resultado = df.Outcome.value_counts()\n",
        "serie_resultado.plot.pie(autopct='%1.1f%%')"
      ],
      "metadata": {
        "colab": {
          "base_uri": "https://localhost:8080/",
          "height": 265
        },
        "id": "_F2ZADMI4aFV",
        "outputId": "aad12337-87ce-49c3-d810-21c7bb8431d8"
      },
      "execution_count": null,
      "outputs": [
        {
          "output_type": "execute_result",
          "data": {
            "text/plain": [
              "<matplotlib.axes._subplots.AxesSubplot at 0x7fd259d3afa0>"
            ]
          },
          "metadata": {},
          "execution_count": 8
        },
        {
          "output_type": "display_data",
          "data": {
            "text/plain": [
              "<Figure size 432x288 with 1 Axes>"
            ],
            "image/png": "[encoded data removed]"
          },
          "metadata": {}
        }
      ]
    },
    {
      "cell_type": "markdown",
      "source": [
        "*   0 = no es probable que tenga diabetes.\n",
        "*   1 = sí es probable que tenga diabetes.\n",
        "\n",
        "De los datos analizados se concluyó que de las 768 pacientes de las cuales fue recabada la información el 65% de ellas no era probable a padecer diabetes, mientras que el 35% sí podría tener dicha enfermedad.\n",
        "\n",
        "Así, con los datos se concluye que 500 pacientes no tienen probabilidad de padecer diabetes, mientras que 268 tienen altas probabilidades."
      ],
      "metadata": {
        "id": "RyuPhqCU44bB"
      }
    }
  ]
}