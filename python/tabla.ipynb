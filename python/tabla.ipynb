{
  "nbformat": 4,
  "nbformat_minor": 0,
  "metadata": {
    "colab": {
      "provenance": []
    },
    "kernelspec": {
      "name": "python3",
      "display_name": "Python 3"
    },
    "language_info": {
      "name": "python"
    }
  },
  "cells": [
    {
      "cell_type": "code",
      "execution_count": 9,
      "metadata": {
        "id": "5D1pof0MmDP3"
      },
      "outputs": [],
      "source": [
        "#poner esto en las primeras celdas\n",
        "import os\n",
        "import numpy as np\n",
        "import matplotlib.pyplot as plt\n",
        "import math as math \n",
        "from scipy.optimize import minimize\n",
        "from scipy import stats "
      ]
    },
    {
      "cell_type": "code",
      "source": [
        "data = np.load(\"line.npy\")"
      ],
      "metadata": {
        "id": "PU0pTRIqmSOx"
      },
      "execution_count": 2,
      "outputs": []
    },
    {
      "cell_type": "code",
      "source": [
        "x = data [0]\n",
        "y = data [1]\n",
        "yerr = data [2]"
      ],
      "metadata": {
        "id": "qiN-aeYsmZas"
      },
      "execution_count": 4,
      "outputs": []
    },
    {
      "cell_type": "markdown",
      "source": [
        "graficar x vs y con barra de error con plt.errorbar"
      ],
      "metadata": {
        "id": "I6dHuBBumrO_"
      }
    },
    {
      "cell_type": "code",
      "source": [
        "plt.errorbar (x, y, yerr, fmt=\".\")"
      ],
      "metadata": {
        "colab": {
          "base_uri": "https://localhost:8080/",
          "height": 282
        },
        "id": "oDjP55JKm0FR",
        "outputId": "6294043d-620e-4493-c7b1-3b45d7846823"
      },
      "execution_count": 7,
      "outputs": [
        {
          "output_type": "execute_result",
          "data": {
            "text/plain": [
              "<ErrorbarContainer object of 3 artists>"
            ]
          },
          "metadata": {},
          "execution_count": 7
        },
        {
          "output_type": "display_data",
          "data": {
            "text/plain": [
              "<Figure size 432x288 with 1 Axes>"
            ],
            "image/png": "[encoded data removed]"
          },
          "metadata": {
            "needs_background": "light"
          }
        }
      ]
    },
    {
      "cell_type": "markdown",
      "source": [
        "ajustar una linea recta a los datos.\n",
        "obtener m,b del modelo y=mx+b"
      ],
      "metadata": {
        "id": "pjobOcrony1g"
      }
    },
    {
      "cell_type": "code",
      "source": [
        "def chi2(params):\n",
        "  a = params[0]\n",
        "  b = params [1]\n",
        "  ymodel = a*x+b\n",
        "  chi2 = 0.5*np.sum ((y-ymodel)**2/yerr**2)\n",
        "  return chi2 "
      ],
      "metadata": {
        "id": "WscWE6KHn_xP"
      },
      "execution_count": 8,
      "outputs": []
    },
    {
      "cell_type": "code",
      "source": [
        "res = minimize(chi2, x0=[-0,0], options= ('disp':True))\n",
        "a_op, b_op=res.x\n",
        "print (a_op,b_op)               "
      ],
      "metadata": {
        "colab": {
          "base_uri": "https://localhost:8080/",
          "height": 134
        },
        "id": "p62FNgKpwxHy",
        "outputId": "2a87458d-7df4-4ead-8b62-b32ce50c9863"
      },
      "execution_count": 10,
      "outputs": [
        {
          "output_type": "error",
          "ename": "SyntaxError",
          "evalue": "ignored",
          "traceback": [
            "\u001b[0;36m  File \u001b[0;32m\"<ipython-input-10-9b25af805f3d>\"\u001b[0;36m, line \u001b[0;32m1\u001b[0m\n\u001b[0;31m    res = minimize(chi2, x0=[-0,0], options= ('disp':True))\u001b[0m\n\u001b[0m                                                    ^\u001b[0m\n\u001b[0;31mSyntaxError\u001b[0m\u001b[0;31m:\u001b[0m invalid syntax\n"
          ]
        }
      ]
    }
  ]
}